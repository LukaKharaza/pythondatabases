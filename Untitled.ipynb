{
 "cells": [
  {
   "cell_type": "code",
   "execution_count": 4,
   "id": "2f7c20b3-e5fb-48a9-803d-fd892900cd1a",
   "metadata": {},
   "outputs": [],
   "source": [
    "import sqlite3\n",
    "conn = sqlite3.connect(\"data.sqlite\")\n",
    "cursor = conn.cursor()\n"
   ]
  },
  {
   "cell_type": "code",
   "execution_count": 5,
   "id": "3a5c96a7-9c05-4dd9-b252-77997ac7831e",
   "metadata": {},
   "outputs": [
    {
     "name": "stdout",
     "output_type": "stream",
     "text": [
      "('Instagram',)\n",
      "('TikTok',)\n",
      "('Instagram',)\n",
      "('Snapchat',)\n",
      "('TikTok',)\n",
      "('Instagram',)\n",
      "('Instagram',)\n",
      "('TikTok',)\n",
      "('TikTok',)\n",
      "('Instagram',)\n",
      "('Instagram',)\n",
      "('TikTok',)\n",
      "('TikTok',)\n",
      "('Instagram',)\n",
      "('Instagram',)\n",
      "('TikTok',)\n",
      "('TikTok',)\n",
      "('Instagram',)\n",
      "('Instagram',)\n",
      "('TikTok',)\n",
      "('TikTok',)\n",
      "('Instagram',)\n",
      "('Snapchat',)\n",
      "('TikTok',)\n",
      "('Snapchat',)\n",
      "('Instagram',)\n",
      "('TikTok',)\n",
      "('Instagram',)\n",
      "('Snapchat',)\n",
      "('TikTok',)\n",
      "('Instagram',)\n",
      "('Instagram',)\n",
      "('Snapchat',)\n",
      "('TikTok',)\n"
     ]
    }
   ],
   "source": [
    "\n",
    "cursor.execute(\"SELECT  Most_Used_Platform from 'Students Social Media Addiction' WHERE CAST(Addicted_Score AS INTENGER)  > 7\")\n",
    "platforms = cursor.fetchall()\n",
    "for i in platforms:\n",
    "    print(i)\n",
    "# ეს დაბეჭდავს იმ სტუდენტების ყველაზე მეტად გამოყენებულ სოციალურ ქსელებს რომლებსაც დამოკიდებულების ქულა 7ზე მეტი აქვს   \n",
    "\n",
    "            "
   ]
  },
  {
   "cell_type": "code",
   "execution_count": 12,
   "id": "f70a0455-af23-4c4b-b74f-7d9cec909088",
   "metadata": {},
   "outputs": [
    {
     "name": "stdout",
     "output_type": "stream",
     "text": [
      "ყველაფერი დაწერეთ ინგლისურად\n"
     ]
    },
    {
     "name": "stdout",
     "output_type": "stream",
     "text": [
      "შეიყვანეთ სტუდენტის id  102\n",
      "შეიყვანეთ სტუდენტის ასაკი  18\n",
      "შეიყვანეთ სტუდენტის გენდერი Male ან Female  Male\n",
      "შეიყვანეთ აკადემიური დონე Undergraduate, High School, ან Graduate  Graduate\n",
      "შეიყვანეთ სტუდენტის ქვეყანა  Georgia\n",
      "შეიყვანეთ საშვალოდ რამდენი საათი იყენებს სოციალურ ქსელებს  3\n",
      "შეიყვანეთ ყველაზე ხშირად რომელ სოციალურ პლატფორმას იყენებს  TikTok\n",
      "მოქმედებს აკადემიურ პერფომანსზე?  No\n",
      "რამდენი საათი ძინავს?  8\n",
      "შეაფასეთ მენტალური მდგომარეობა 1-10მდე  9\n",
      "ურთიერთობის სტატუსი  Single\n",
      "კონფლიქტები სოციალურ მედიაში  0\n",
      "შეიყვანეთ დამოკიდულების დონე 1-10მდე  2\n"
     ]
    }
   ],
   "source": [
    "print(\"ყველაფერი დაწერეთ ინგლისურად\")\n",
    "student_id = input(\"შეიყვანეთ სტუდენტის id \")\n",
    "age = input(\"შეიყვანეთ სტუდენტის ასაკი \")\n",
    "gender = input(\"შეიყვანეთ სტუდენტის გენდერი Male ან Female \")\n",
    "academic = input(\"შეიყვანეთ აკადემიური დონე Undergraduate, High School, ან Graduate \")\n",
    "country = input(\"შეიყვანეთ სტუდენტის ქვეყანა \")\n",
    "hours = input(\"შეიყვანეთ საშვალოდ რამდენი საათი იყენებს სოციალურ ქსელებს \")\n",
    "mostused = input (\"შეიყვანეთ ყველაზე ხშირად რომელ სოციალურ პლატფორმას იყენებს \")\n",
    "affectsac = input(\"მოქმედებს აკადემიურ პერფომანსზე? \")\n",
    "sleep = input(\"რამდენი საათი ძინავს? \")\n",
    "mentalhealth = input(\"შეაფასეთ მენტალური მდგომარეობა 1-10მდე \")\n",
    "realitionship = input(\"ურთიერთობის სტატუსი \")\n",
    "conflictsmedia = input(\"კონფლიქტები სოციალურ მედიაში \")\n",
    "score = input(\"შეიყვანეთ დამოკიდულების დონე 1-10მდე \")\n",
    "cursor.execute('''INSERT INTO 'Students Social Media Addiction'\n",
    "                (Student_ID, Age, Gender, Academic_Level, Country, Avg_Daily_Usage_Hours, Most_Used_Platform, Affects_Academic_Performance, Sleep_Hours_Per_Night,Mental_Health_Score, Relationship_Status ,Conflicts_Over_Social_Media, Addicted_Score)\n",
    "               VALUES (?, ?, ?, ?, ?, ?, ?, ?, ?, ?, ?, ?, ?)''', (student_id, age, gender, academic, country, hours, mostused, affectsac, sleep, mentalhealth, realitionship, conflictsmedia, score))\n",
    "conn.commit()\n",
    "\n",
    "\n",
    "\n",
    "\n",
    "\n"
   ]
  },
  {
   "cell_type": "code",
   "execution_count": null,
   "id": "0ecab50f-01b2-41d5-a276-16ed88351663",
   "metadata": {},
   "outputs": [
    {
     "name": "stdout",
     "output_type": "stream",
     "text": [
      "დაწერეთ სტუდენტის id რომლის მონაცემის შეცვლაც გინდათ  101\n",
      "დაწერეთ რის შეცვლა გინდათ   Age\n",
      "დაწერეთ რით გინდათ შეცვალოთ  27\n"
     ]
    }
   ],
   "source": [
    "idd = input(\"დაწერეთ სტუდენტის id რომლის მონაცემის შეცვლაც გინდათ \")\n",
    "whatchange = input(\"დაწერეთ რის შეცვლა გინდათ  \")\n",
    "sett = input(\"დაწერეთ რით გინდათ შეცვალოთ \")\n",
    "query = f\"UPDATE 'Students Social Media Addiction' SET {whatchange}={sett} WHERE Student_ID ={int(idd)} \"\n",
    "cursor.execute(query)\n",
    "conn.commit()\n",
    "#ანახლებს მონაცემებს"
   ]
  },
  {
   "cell_type": "code",
   "execution_count": null,
   "id": "c6219a45-2a28-4520-8c4b-c59ce262d609",
   "metadata": {},
   "outputs": [],
   "source": []
  }
 ],
 "metadata": {
  "kernelspec": {
   "display_name": "Python 3 (ipykernel)",
   "language": "python",
   "name": "python3"
  },
  "language_info": {
   "codemirror_mode": {
    "name": "ipython",
    "version": 3
   },
   "file_extension": ".py",
   "mimetype": "text/x-python",
   "name": "python",
   "nbconvert_exporter": "python",
   "pygments_lexer": "ipython3",
   "version": "3.13.2"
  }
 },
 "nbformat": 4,
 "nbformat_minor": 5
}
